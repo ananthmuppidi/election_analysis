{
 "cells": [
  {
   "cell_type": "code",
   "execution_count": 1,
   "id": "a2b82474",
   "metadata": {},
   "outputs": [],
   "source": [
    "import pandas as pd\n",
    "import numpy as np"
   ]
  },
  {
   "cell_type": "code",
   "execution_count": 3,
   "id": "1e04d724",
   "metadata": {},
   "outputs": [],
   "source": [
    "data_path = \"../assets/data/cleaned_data.csv\"\n",
    "df = pd.read_csv(data_path)\n",
    "df = df[df[\"Year\"] > 2014]\n"
   ]
  },
  {
   "cell_type": "code",
   "execution_count": 5,
   "id": "31ff57ca",
   "metadata": {},
   "outputs": [
    {
     "data": {
      "text/plain": [
       "Index(['Unnamed: 0', 'State_Name', 'Assembly_No', 'Constituency_No', 'Year',\n",
       "       'Poll_No', 'DelimID', 'Position', 'Sex', 'Party', 'Candidate_Type',\n",
       "       'Electors', 'Constituency_Name', 'Constituency_Type', 'N_Cand',\n",
       "       'Turnout_Percentage', 'Vote_Share_Percentage', 'Deposit_Lost',\n",
       "       'Margin_Percentage', 'ENOP', 'pid', 'Party_Type_TCPD', 'Party_ID',\n",
       "       'last_poll', 'Contested', 'Last_Party_ID', 'Last_Constituency_Name',\n",
       "       'Same_Constituency', 'Same_Party', 'No_Terms', 'Turncoat', 'Incumbent',\n",
       "       'Recontest', 'MyNeta_education', 'TCPD_Prof_Main'],\n",
       "      dtype='object')"
      ]
     },
     "execution_count": 5,
     "metadata": {},
     "output_type": "execute_result"
    }
   ],
   "source": [
    "df.columns"
   ]
  },
  {
   "cell_type": "code",
   "execution_count": null,
   "id": "903ac35a",
   "metadata": {},
   "outputs": [],
   "source": []
  }
 ],
 "metadata": {
  "kernelspec": {
   "display_name": "Python 3 (ipykernel)",
   "language": "python",
   "name": "python3"
  },
  "language_info": {
   "codemirror_mode": {
    "name": "ipython",
    "version": 3
   },
   "file_extension": ".py",
   "mimetype": "text/x-python",
   "name": "python",
   "nbconvert_exporter": "python",
   "pygments_lexer": "ipython3",
   "version": "3.11.3"
  }
 },
 "nbformat": 4,
 "nbformat_minor": 5
}
