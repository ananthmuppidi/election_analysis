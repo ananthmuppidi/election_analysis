{
 "cells": [
  {
   "cell_type": "code",
   "execution_count": 3,
   "id": "371d1db4",
   "metadata": {},
   "outputs": [],
   "source": [
    "# required imports\n",
    "\n",
    "import pandas as pd\n",
    "import seaborn as sns\n",
    "import geopandas as gpd\n",
    "import matplotlib.pyplot as plt\n",
    "\n",
    "sns.set_style('whitegrid')"
   ]
  },
  {
   "cell_type": "code",
   "execution_count": null,
   "id": "b6aff06c",
   "metadata": {},
   "outputs": [],
   "source": [
    "#Reading the shape file\n",
    "fp = r'C:\\Users\\pc\\Desktop\\chloropleth\\india-polygon.shp'\n",
    "map_df = gpd.read_file(fp)\n",
    "map_df.head()"
   ]
  }
 ],
 "metadata": {
  "kernelspec": {
   "display_name": "Python 3 (ipykernel)",
   "language": "python",
   "name": "python3"
  },
  "language_info": {
   "codemirror_mode": {
    "name": "ipython",
    "version": 3
   },
   "file_extension": ".py",
   "mimetype": "text/x-python",
   "name": "python",
   "nbconvert_exporter": "python",
   "pygments_lexer": "ipython3",
   "version": "3.11.3"
  }
 },
 "nbformat": 4,
 "nbformat_minor": 5
}
